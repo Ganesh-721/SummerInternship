{
 "cells": [
  {
   "cell_type": "code",
   "execution_count": 3,
   "metadata": {},
   "outputs": [],
   "source": [
    "import pandas as pd\n",
    "import numpy as np"
   ]
  },
  {
   "cell_type": "markdown",
   "metadata": {},
   "source": [
    "- What is the parameter we should use to mention the fisrt row in the datset are not columns\n",
    "- what is the value we should send for that parameter"
   ]
  },
  {
   "cell_type": "markdown",
   "metadata": {},
   "source": [
    "##### Read the data in the data.csv file in the proper format\n",
    "##### Use ['my_datetime', 'event', 'country', 'user_id', 'source', 'topic'] as columns"
   ]
  },
  {
   "cell_type": "code",
   "execution_count": null,
   "metadata": {},
   "outputs": [],
   "source": []
  },
  {
   "cell_type": "markdown",
   "metadata": {},
   "source": [
    "- check how many rows and columns are there\n",
    "- what are the columns names\n",
    "- what are are the row labels\n",
    "- Write down your observation\n",
    "    - what type of data you have \n",
    "    - In the data you have observed are there any missing values(NaN)\n",
    "- print the datatype of each column\n",
    "- For each datatype how many columns are there\n",
    "- Using describe function observe the different measures for numerical and categorical columns\n",
    "- Use the info function to get the detailed info of the dataframe"
   ]
  }
 ],
 "metadata": {
  "kernelspec": {
   "display_name": "Python 3",
   "language": "python",
   "name": "python3"
  },
  "language_info": {
   "codemirror_mode": {
    "name": "ipython",
    "version": 3
   },
   "file_extension": ".py",
   "mimetype": "text/x-python",
   "name": "python",
   "nbconvert_exporter": "python",
   "pygments_lexer": "ipython3",
   "version": "3.7.6"
  }
 },
 "nbformat": 4,
 "nbformat_minor": 2
}
